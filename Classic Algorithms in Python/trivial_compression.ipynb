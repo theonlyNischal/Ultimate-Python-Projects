{
 "cells": [
  {
   "cell_type": "code",
   "execution_count": 52,
   "id": "d749c7d3",
   "metadata": {},
   "outputs": [],
   "source": [
    "import sys"
   ]
  },
  {
   "cell_type": "code",
   "execution_count": 35,
   "id": "9884354f",
   "metadata": {},
   "outputs": [],
   "source": [
    "class InvalidNucleotideError(ValueError):\n",
    "    pass\n",
    "\n",
    "class InvalidBitsError(ValueError):\n",
    "    pass"
   ]
  },
  {
   "cell_type": "code",
   "execution_count": 55,
   "id": "2608cb08",
   "metadata": {},
   "outputs": [],
   "source": [
    "class CompressedGenes:\n",
    "    \"\"\"Compressed a gene from string to binary bits.\n",
    "    \"\"\"\n",
    "    def __init__(self, gene: str) -> None:\n",
    "        self._compress(gene)\n",
    "    \n",
    "    def _compress(self, gene: str) -> None:\n",
    "        self.bit_string = 1\n",
    "        for nucleotide in gene.upper():\n",
    "            self.bit_string <<= 2\n",
    "            if nucleotide == \"A\":\n",
    "                self.bit_string |= 0b00\n",
    "            elif nucleotide == \"C\":\n",
    "                self.bit_string |= 0b01\n",
    "            elif nucleotide == \"G\":\n",
    "                self.bit_string |= 0b10\n",
    "            elif nucleotide == \"T\":\n",
    "                self.bit_string |= 0b11\n",
    "            else:\n",
    "                raise InvalidNucleotideError(nucleotide)\n",
    "    \n",
    "    def decompress(self) -> str:\n",
    "        gene: str = \"\"\n",
    "        for i in range(0, self.bit_string.bit_length()-1, 2):\n",
    "            bits: int = self.bit_string >> i & 0b11\n",
    "            if bits == 0b00:\n",
    "                gene += \"A\"\n",
    "            elif bits == 0b01:\n",
    "                gene += \"C\"\n",
    "            elif bits == 0b10:\n",
    "                gene += \"G\"\n",
    "            elif bits == 0b11:\n",
    "                gene += \"T\"\n",
    "            else:\n",
    "                raise InvalidBitsError(bits)\n",
    "        return gene[::-1]\n",
    "    \n",
    "    def __str__(self) -> str:\n",
    "        return self.decompress()\n",
    "        "
   ]
  },
  {
   "cell_type": "code",
   "execution_count": 60,
   "id": "561d83c4",
   "metadata": {},
   "outputs": [],
   "source": [
    "original: str = \"TAGGGATTAACCGTTATATATATATAGCCATGGATCGATTATATAGGGATTAACCGTTATATATATATAGCCATGGATCGATTATA\" * 100"
   ]
  },
  {
   "cell_type": "code",
   "execution_count": 61,
   "id": "8522e0ce",
   "metadata": {},
   "outputs": [],
   "source": [
    "compressed = CompressedGenes(original)"
   ]
  },
  {
   "cell_type": "code",
   "execution_count": 63,
   "id": "e48eb66c",
   "metadata": {},
   "outputs": [],
   "source": [
    "decompressed = compressed.decompress()"
   ]
  },
  {
   "cell_type": "code",
   "execution_count": 66,
   "id": "6762b788",
   "metadata": {},
   "outputs": [
    {
     "name": "stdout",
     "output_type": "stream",
     "text": [
      "Size of original: 8649\n",
      "Size of compressed: 48\n",
      "Size of decompressed: 8649\n",
      "Original == Decompressed: True)\n"
     ]
    }
   ],
   "source": [
    "print(f\"Size of original: {sys.getsizeof(original)}\")\n",
    "print(f\"Size of compressed: {sys.getsizeof(compressed)}\")\n",
    "print(f\"Size of decompressed: {sys.getsizeof(decompressed)}\")\n",
    "print(f\"Original == Decompressed: {original==decompressed})\")"
   ]
  },
  {
   "cell_type": "code",
   "execution_count": null,
   "id": "08fa5592",
   "metadata": {},
   "outputs": [],
   "source": []
  }
 ],
 "metadata": {
  "kernelspec": {
   "display_name": "Python 3 (ipykernel)",
   "language": "python",
   "name": "python3"
  },
  "language_info": {
   "codemirror_mode": {
    "name": "ipython",
    "version": 3
   },
   "file_extension": ".py",
   "mimetype": "text/x-python",
   "name": "python",
   "nbconvert_exporter": "python",
   "pygments_lexer": "ipython3",
   "version": "3.10.4"
  }
 },
 "nbformat": 4,
 "nbformat_minor": 5
}
