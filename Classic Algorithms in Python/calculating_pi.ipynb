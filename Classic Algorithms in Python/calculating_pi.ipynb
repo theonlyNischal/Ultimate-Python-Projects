{
 "cells": [
  {
   "cell_type": "code",
   "execution_count": null,
   "id": "46601237",
   "metadata": {},
   "outputs": [],
   "source": [
    "1, 5, 9\n",
    "3, 7, 11"
   ]
  },
  {
   "cell_type": "markdown",
   "id": "29f294c9",
   "metadata": {},
   "source": [
    "π = 4/1 - 4/3 + 4/5 - 4/7 + 4/9 - 4/11.."
   ]
  },
  {
   "cell_type": "code",
   "execution_count": 19,
   "id": "9543eb7d",
   "metadata": {},
   "outputs": [],
   "source": [
    "def calculate_pi():\n",
    "    pi: float = 0.0\n",
    "    numerator: float = 4.0\n",
    "    denominator: float = 1.0\n",
    "    operation: float = 1.0\n",
    "    for i in range(1000000):\n",
    "        pi += operation * (numerator/denominator)\n",
    "        operation = operation * -1\n",
    "        denominator = denominator + 2\n",
    "    return pi"
   ]
  },
  {
   "cell_type": "code",
   "execution_count": 20,
   "id": "157865b0",
   "metadata": {},
   "outputs": [
    {
     "data": {
      "text/plain": [
       "3.1415916535897743"
      ]
     },
     "execution_count": 20,
     "metadata": {},
     "output_type": "execute_result"
    }
   ],
   "source": [
    "calculate_pi()"
   ]
  },
  {
   "cell_type": "code",
   "execution_count": null,
   "id": "8e5ff21f",
   "metadata": {},
   "outputs": [],
   "source": []
  },
  {
   "cell_type": "code",
   "execution_count": null,
   "id": "12a3a911",
   "metadata": {},
   "outputs": [],
   "source": []
  }
 ],
 "metadata": {
  "kernelspec": {
   "display_name": "Python 3 (ipykernel)",
   "language": "python",
   "name": "python3"
  },
  "language_info": {
   "codemirror_mode": {
    "name": "ipython",
    "version": 3
   },
   "file_extension": ".py",
   "mimetype": "text/x-python",
   "name": "python",
   "nbconvert_exporter": "python",
   "pygments_lexer": "ipython3",
   "version": "3.10.4"
  }
 },
 "nbformat": 4,
 "nbformat_minor": 5
}
