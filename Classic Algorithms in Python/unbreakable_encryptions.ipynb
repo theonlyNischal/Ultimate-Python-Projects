{
 "cells": [
  {
   "cell_type": "code",
   "execution_count": 2,
   "id": "e52ebf95",
   "metadata": {},
   "outputs": [],
   "source": [
    "from secrets import token_bytes\n",
    "from typing import Tuple"
   ]
  },
  {
   "cell_type": "code",
   "execution_count": 8,
   "id": "92a4c64e",
   "metadata": {},
   "outputs": [],
   "source": [
    "def random_key(length: int) -> int:\n",
    "    tb: bytes = token_bytes(length)\n",
    "    return int.from_bytes(tb, \"big\")"
   ]
  },
  {
   "cell_type": "code",
   "execution_count": 27,
   "id": "3e024626",
   "metadata": {},
   "outputs": [],
   "source": [
    "def encrypt(original: str) -> tuple[int, int]:\n",
    "    original_bytes: str = original.encode()\n",
    "    dummy: int = random_key(len(original_bytes))\n",
    "    original_key: int = int.from_bytes(original_bytes, \"big\")\n",
    "    encrypted: int = original_key ^ dummy\n",
    "    return dummy, encrypted"
   ]
  },
  {
   "cell_type": "code",
   "execution_count": 28,
   "id": "b0ca3bea",
   "metadata": {},
   "outputs": [],
   "source": [
    "def decrypt(key1: int, key2: int) -> str:\n",
    "    decrypted: int = key1 ^ key2\n",
    "    temp: bytes = decrypted.to_bytes((decrypted.bit_length() + 7)//8, \"big\")\n",
    "    return temp.decode()"
   ]
  },
  {
   "cell_type": "code",
   "execution_count": 29,
   "id": "355f697c",
   "metadata": {},
   "outputs": [
    {
     "data": {
      "text/plain": [
       "(67882609160693032261728962056, 45555053454253387181261447721)"
      ]
     },
     "execution_count": 29,
     "metadata": {},
     "output_type": "execute_result"
    }
   ],
   "source": [
    "encrypt(\"Hello World!\")"
   ]
  },
  {
   "cell_type": "code",
   "execution_count": 32,
   "id": "07905316",
   "metadata": {},
   "outputs": [
    {
     "data": {
      "text/plain": [
       "'Hello World!'"
      ]
     },
     "execution_count": 32,
     "metadata": {},
     "output_type": "execute_result"
    }
   ],
   "source": [
    "decrypt(67882609160693032261728962056, 45555053454253387181261447721)"
   ]
  },
  {
   "cell_type": "code",
   "execution_count": null,
   "id": "1f6b5762",
   "metadata": {},
   "outputs": [],
   "source": []
  }
 ],
 "metadata": {
  "kernelspec": {
   "display_name": "Python 3 (ipykernel)",
   "language": "python",
   "name": "python3"
  },
  "language_info": {
   "codemirror_mode": {
    "name": "ipython",
    "version": 3
   },
   "file_extension": ".py",
   "mimetype": "text/x-python",
   "name": "python",
   "nbconvert_exporter": "python",
   "pygments_lexer": "ipython3",
   "version": "3.10.4"
  }
 },
 "nbformat": 4,
 "nbformat_minor": 5
}
