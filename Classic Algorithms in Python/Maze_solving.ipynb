{
 "cells": [
  {
   "cell_type": "code",
   "execution_count": 1,
   "id": "fa4f4958",
   "metadata": {},
   "outputs": [],
   "source": [
    "# https://github.com/davecom/ClassicComputerScienceProblemsInPython/blob/master/Chapter2/maze.py"
   ]
  },
  {
   "cell_type": "markdown",
   "id": "5eaf4e06",
   "metadata": {},
   "source": [
    "### Project Description\n",
    "\n",
    "Build a maze solving algorithm\n",
    "- Build a maze\n",
    "- Solve the maze"
   ]
  },
  {
   "cell_type": "code",
   "execution_count": 112,
   "id": "84048a6f",
   "metadata": {},
   "outputs": [],
   "source": [
    "import random\n",
    "from enum import Enum\n",
    "from typing import List, NamedTuple, Generic, T, Optional"
   ]
  },
  {
   "cell_type": "code",
   "execution_count": 102,
   "id": "7f118b29",
   "metadata": {},
   "outputs": [],
   "source": [
    "class Cell(str, Enum):\n",
    "    \"\"\"A class to represent the value of individual maze location.\n",
    "    \"\"\"\n",
    "    EMPTY = \".\"\n",
    "    BLOCKED = \"X\"\n",
    "    PATH = \"*\"\n",
    "    GOAL = \"G\"\n",
    "    START = \"S\""
   ]
  },
  {
   "cell_type": "code",
   "execution_count": 103,
   "id": "b06b61c8",
   "metadata": {},
   "outputs": [],
   "source": [
    "class MazeLocation(NamedTuple):\n",
    "    \"\"\"A class to represent individual maze location.\n",
    "    \"\"\"\n",
    "    row: int\n",
    "    column: int"
   ]
  },
  {
   "cell_type": "code",
   "execution_count": 104,
   "id": "e76fa646",
   "metadata": {},
   "outputs": [],
   "source": [
    "class Maze:\n",
    "    \"\"\"A class to represent overall maze.\n",
    "    \"\"\"\n",
    "    def __init__(self, rows: int = 10, columns: int = 10, sparseness: float = 0.2,\n",
    "                start: MazeLocation = MazeLocation(0,0), goal: MazeLocation = MazeLocation(9,9)) -> None:\n",
    "        self._rows: int = rows\n",
    "        self._columns: int = columns\n",
    "        self._sparseness = sparseness\n",
    "        self.start: MazeLocation = start\n",
    "        self.goal: MazeLocation = goal\n",
    "        # fill the grid with empty cells\n",
    "        self._grid: List[List[Cell]] = [\n",
    "            [random.choices([Cell.EMPTY, Cell.BLOCKED], weights=(80, 20), k=1)[0] for c in range(self._columns)] \n",
    "                for r in range(self._rows)\n",
    "        ]\n",
    "        self._grid[self.start.row][self.start.column] = Cell.START\n",
    "        self._grid[self.goal.row][self.goal.column] = Cell.GOAL\n",
    "        \n",
    "    def goal_test(self, ml: MazeLocation) -> bool:\n",
    "        return ml == self.goal\n",
    "    \n",
    "    def sucessors(self, ml: MazeLocation) -> List[MazeLocation]:\n",
    "        locations: List[MazeLocation] = []\n",
    "        if ml.column-1 >= 0 and self._grid[ml.row][ml.column-1] != Cell.BLOCKED:\n",
    "            locations.append(MazeLocation(ml.row, ml.column-1))\n",
    "        if ml.column+1 < self._columns and self._grid[ml.row][ml.column+1] != Cell.BLOCKED:\n",
    "            locations.append(MazeLocation(ml.row, ml.column+1))\n",
    "        if ml.row-1 >= 0 and self._grid[ml.row-1][ml.column] != Cell.BLOCKED:\n",
    "            locations.append(MazeLocation(ml.row-1, ml.column))  \n",
    "        if ml.row+1 < self._rows and self._grid[ml.row+1][ml.column] != Cell.BLOCKED:\n",
    "            locations.append(MazeLocation(ml.row+1, ml.column))\n",
    "        \n",
    "        return locations\n",
    "    \n",
    "    def __str__(self) -> str:\n",
    "        board_output = \"\"\n",
    "        for row in range(self._rows):\n",
    "            for column in range(self._columns):\n",
    "                board_output += self._grid[row][column]\n",
    "            board_output += \"\\n\"\n",
    "        return board_output"
   ]
  },
  {
   "cell_type": "code",
   "execution_count": 105,
   "id": "25dd3faa",
   "metadata": {},
   "outputs": [
    {
     "name": "stdout",
     "output_type": "stream",
     "text": [
      "S......XX.\n",
      "..X.....X.\n",
      "..........\n",
      "..XX..X...\n",
      "X...X.....\n",
      "...X.XX.X.\n",
      ".....XXX..\n",
      ".X........\n",
      "..XX......\n",
      "XX.XX....G\n",
      "\n"
     ]
    }
   ],
   "source": [
    "m = Maze()\n",
    "print(m)"
   ]
  },
  {
   "cell_type": "code",
   "execution_count": 106,
   "id": "2351eba8",
   "metadata": {},
   "outputs": [
    {
     "name": "stdout",
     "output_type": "stream",
     "text": [
      "[MazeLocation(row=8, column=0)]\n"
     ]
    }
   ],
   "source": [
    "print(m.sucessors(MazeLocation(9,0)))"
   ]
  },
  {
   "cell_type": "code",
   "execution_count": 107,
   "id": "1519af6e",
   "metadata": {},
   "outputs": [],
   "source": [
    "class Stack(Generic[T]):\n",
    "    def __init__(self) -> None:\n",
    "        self._containsers: List[T] = []\n",
    "    \n",
    "    @property\n",
    "    def empty(self) -> bool:\n",
    "        return len(self._containers) == 0\n",
    "    \n",
    "    def push(self, item: T) -> None:\n",
    "        self._containers.append(item)\n",
    "    \n",
    "    def pop(self) -> T:\n",
    "        return self._containsers.pop()\n",
    "    \n",
    "    def __repr__(self) -> str:\n",
    "        return repr(self._containers)"
   ]
  },
  {
   "cell_type": "code",
   "execution_count": 115,
   "id": "8de459fa",
   "metadata": {},
   "outputs": [],
   "source": [
    "class Node(Generic[T]):\n",
    "    def __init__(self, state: T, parent, cost:float=0.0,\n",
    "                heuristic: float=0.0) -> None:\n",
    "        self.state: T = state\n",
    "        self.parent = parent\n",
    "        self.cost: float = cost\n",
    "        self.heuristic: float = heuristic\n",
    "    \n",
    "    def __lt__(self, other) -> bool:\n",
    "        return (self.cost + self.heuristic) < (other.cost + other.heuristic)\n",
    "    \n",
    "    "
   ]
  },
  {
   "cell_type": "code",
   "execution_count": 116,
   "id": "69f94e0b",
   "metadata": {},
   "outputs": [],
   "source": [
    "def dfs(initial, goal_test, successors):\n",
    "    # frontier is where we've yet to go\n",
    "    frontier = Stack()\n",
    "    frontier.push(Node(initial, None))\n",
    "    # explored is where we've been\n",
    "    explored = (initial)\n",
    "    \n",
    "    while not frontier.empty:\n",
    "        current_node = frontier.pop()\n",
    "        current_state = current_node.state\n",
    "        # if we found the goal, we're done\n",
    "        if goal_test(current_state):\n",
    "            return current_node\n",
    "        \n",
    "        for child in successors(current_state):\n",
    "            if child in explored:\n",
    "                continue\n",
    "            explored.add(child)\n",
    "            frontier.push(Node(child, current_node))\n",
    "    return None\n",
    "    \n",
    "    "
   ]
  },
  {
   "cell_type": "code",
   "execution_count": null,
   "id": "9c8f5a18",
   "metadata": {},
   "outputs": [],
   "source": []
  }
 ],
 "metadata": {
  "kernelspec": {
   "display_name": "Python 3 (ipykernel)",
   "language": "python",
   "name": "python3"
  },
  "language_info": {
   "codemirror_mode": {
    "name": "ipython",
    "version": 3
   },
   "file_extension": ".py",
   "mimetype": "text/x-python",
   "name": "python",
   "nbconvert_exporter": "python",
   "pygments_lexer": "ipython3",
   "version": "3.10.4"
  }
 },
 "nbformat": 4,
 "nbformat_minor": 5
}
