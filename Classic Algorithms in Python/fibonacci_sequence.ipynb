{
 "cells": [
  {
   "cell_type": "markdown",
   "id": "f4a33e3b",
   "metadata": {},
   "source": [
    "Fibonacci Sequence is a sequence of numbers such that except 1st and 2nd number in sequence all others are sum of their previous two.\n",
    "\n",
    "0, 1, 1, 2, 3, 5, 8, 13, 21, "
   ]
  },
  {
   "cell_type": "code",
   "execution_count": 52,
   "id": "b8a7edd6",
   "metadata": {},
   "outputs": [],
   "source": [
    "# Get nth fibonacci number\n",
    "from functools import lru_cache\n",
    "\n",
    "@lru_cache(maxsize=None)\n",
    "def get_fibo(n: int) -> int:\n",
    "    if n<2:\n",
    "        return n\n",
    "    return get_fibo(n-1) + get_fibo(n-2)"
   ]
  },
  {
   "cell_type": "code",
   "execution_count": 53,
   "id": "5fc33ed4",
   "metadata": {},
   "outputs": [],
   "source": [
    "from typing import List\n",
    "def gen_fibo(n: int) -> List:\n",
    "    for i in range(n):\n",
    "        print(get_fibo(i), end=\" \")\n",
    "    "
   ]
  },
  {
   "cell_type": "code",
   "execution_count": 54,
   "id": "ec0d063b",
   "metadata": {},
   "outputs": [
    {
     "name": "stdout",
     "output_type": "stream",
     "text": [
      "0 1 1 2 "
     ]
    }
   ],
   "source": [
    "gen_fibo(4)"
   ]
  },
  {
   "cell_type": "code",
   "execution_count": 60,
   "id": "b7120ed7",
   "metadata": {},
   "outputs": [],
   "source": [
    "# using generators\n",
    "from typing import Generator\n",
    "def fibonacci(n: int) -> Generator:\n",
    "    yield 0\n",
    "    if n > 0: yield 1\n",
    "    last: int = 0\n",
    "    next: int = 1\n",
    "    for _ in range(1, n):\n",
    "        last, next = next, last + next\n",
    "        yield next\n",
    "    "
   ]
  },
  {
   "cell_type": "code",
   "execution_count": 61,
   "id": "3df23b6d",
   "metadata": {},
   "outputs": [
    {
     "name": "stdout",
     "output_type": "stream",
     "text": [
      "0 1 1 2 "
     ]
    }
   ],
   "source": [
    "for i in fibonacci(3):\n",
    "    print(i, end=\" \")"
   ]
  },
  {
   "cell_type": "code",
   "execution_count": null,
   "id": "2dd23565",
   "metadata": {},
   "outputs": [],
   "source": []
  }
 ],
 "metadata": {
  "kernelspec": {
   "display_name": "Python 3 (ipykernel)",
   "language": "python",
   "name": "python3"
  },
  "language_info": {
   "codemirror_mode": {
    "name": "ipython",
    "version": 3
   },
   "file_extension": ".py",
   "mimetype": "text/x-python",
   "name": "python",
   "nbconvert_exporter": "python",
   "pygments_lexer": "ipython3",
   "version": "3.10.4"
  }
 },
 "nbformat": 4,
 "nbformat_minor": 5
}
