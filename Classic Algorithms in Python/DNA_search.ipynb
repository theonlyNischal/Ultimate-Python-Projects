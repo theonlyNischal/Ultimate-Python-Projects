{
 "cells": [
  {
   "cell_type": "markdown",
   "id": "3e5d263f",
   "metadata": {},
   "source": [
    "### DNA Search\n",
    "\n",
    "Genes are commonly represented in computer software as a sequence of the characters A, C, G, and T. Each letter represents a nucleotide, and the combination of\n",
    "three nucleotides is called a codon. This is illustrated in figure 2.1. A codon codes\n",
    "for a specific amino acid that together with other amino acids can form a protein.\n",
    "A classic task in bioinformatics software is to find a particular codon within a gene.\n"
   ]
  },
  {
   "cell_type": "code",
   "execution_count": 7,
   "id": "ddf446ab",
   "metadata": {},
   "outputs": [
    {
     "data": {
      "text/plain": [
       "False"
      ]
     },
     "execution_count": 7,
     "metadata": {},
     "output_type": "execute_result"
    }
   ],
   "source": [
    "from typing import List, Tuple\n",
    "from enum import IntEnum\n",
    "\n",
    "Nucleotide: IntEnum = IntEnum('Nucleotide', ('A', 'C', 'G', 'T'))\n",
    "Codon = Tuple[Nucleotide, Nucleotide, Nucleotide]\n",
    "Gene = List[Codon]\n",
    "\n",
    "gene_str: str = \"ACGTGGCTCTCTAAGTAGTAGTAGGGGTTTATATATACCCTAGGACTCCCTTTAA\"\n",
    "    \n",
    "def str_to_gene(s: str) -> Gene:\n",
    "    gene: Gene = []\n",
    "    for i in range(0, len(s), 3):\n",
    "        if (i+2) >= len(s):\n",
    "            return gene\n",
    "        codon: Codon = (Nucleotide[s[i]], Nucleotide[s[i+1]], Nucleotide[s[i+2]])\n",
    "        gene.append(codon)\n",
    "    return gene\n",
    "\n",
    "acg: Codon = (Nucleotide.A, Nucleotide.C, Nucleotide.G)\n",
    "gat: Codon = (Nucleotide.G, Nucleotide.A, Nucleotide.T)\n",
    "my_gene = str_to_gene(gene_str)\n",
    "\n",
    "def binary_contains(key_codon: Codon, gene: Gene) -> bool:\n",
    "    low = 0\n",
    "    high = len(gene)\n",
    "    while low <= high:\n",
    "        mid: int = (low + high)//2\n",
    "        if key_codon > gene[mid]:\n",
    "            low = mid+1\n",
    "        elif key_codon < gene[mid]:\n",
    "            high = mid-1\n",
    "        else:\n",
    "            print(mid)\n",
    "            return True\n",
    "    return False\n",
    "\n",
    "binary_contains(acg, my_gene)\n",
    "        "
   ]
  },
  {
   "cell_type": "code",
   "execution_count": 8,
   "id": "863ef237",
   "metadata": {},
   "outputs": [],
   "source": [
    "from typing import List, Tuple\n",
    "from enum import IntEnum"
   ]
  },
  {
   "cell_type": "code",
   "execution_count": 9,
   "id": "fbf0df82",
   "metadata": {},
   "outputs": [],
   "source": [
    "Nucleotide: IntEnum = IntEnum('Nucleotide', ('A', 'C', 'G', 'T'))\n",
    "Codon = Tuple[Nucleotide, Nucleotide, Nucleotide]\n",
    "Gene = List[Codon]"
   ]
  },
  {
   "cell_type": "code",
   "execution_count": 10,
   "id": "b9eab1ce",
   "metadata": {},
   "outputs": [],
   "source": [
    "gene_str: str = \"ACGTGGCTCTCTAAGTAGTAGTAGGGGTTTATATATACCCTAGGACTCCCTTTAA\""
   ]
  },
  {
   "cell_type": "code",
   "execution_count": 11,
   "id": "73dd0fe3",
   "metadata": {},
   "outputs": [],
   "source": [
    "def str_to_gene(s: str) -> Gene:\n",
    "    gene: Gene = []\n",
    "    for i in range(0, len(s), 3):\n",
    "        if (i+2) >= len(s):\n",
    "            return gene\n",
    "        codon: Codon = (Nucleotide[s[i]], Nucleotide[s[i+1]], Nucleotide[s[i+2]])\n",
    "        gene.append(codon)\n",
    "    return gene"
   ]
  },
  {
   "cell_type": "code",
   "execution_count": 12,
   "id": "7d4578fe",
   "metadata": {},
   "outputs": [
    {
     "data": {
      "text/plain": [
       "[(<Nucleotide.A: 1>, <Nucleotide.C: 2>, <Nucleotide.G: 3>),\n",
       " (<Nucleotide.T: 4>, <Nucleotide.G: 3>, <Nucleotide.G: 3>),\n",
       " (<Nucleotide.C: 2>, <Nucleotide.T: 4>, <Nucleotide.C: 2>),\n",
       " (<Nucleotide.T: 4>, <Nucleotide.C: 2>, <Nucleotide.T: 4>),\n",
       " (<Nucleotide.A: 1>, <Nucleotide.A: 1>, <Nucleotide.G: 3>),\n",
       " (<Nucleotide.T: 4>, <Nucleotide.A: 1>, <Nucleotide.G: 3>),\n",
       " (<Nucleotide.T: 4>, <Nucleotide.A: 1>, <Nucleotide.G: 3>),\n",
       " (<Nucleotide.T: 4>, <Nucleotide.A: 1>, <Nucleotide.G: 3>),\n",
       " (<Nucleotide.G: 3>, <Nucleotide.G: 3>, <Nucleotide.G: 3>),\n",
       " (<Nucleotide.T: 4>, <Nucleotide.T: 4>, <Nucleotide.T: 4>),\n",
       " (<Nucleotide.A: 1>, <Nucleotide.T: 4>, <Nucleotide.A: 1>),\n",
       " (<Nucleotide.T: 4>, <Nucleotide.A: 1>, <Nucleotide.T: 4>),\n",
       " (<Nucleotide.A: 1>, <Nucleotide.C: 2>, <Nucleotide.C: 2>),\n",
       " (<Nucleotide.C: 2>, <Nucleotide.T: 4>, <Nucleotide.A: 1>),\n",
       " (<Nucleotide.G: 3>, <Nucleotide.G: 3>, <Nucleotide.A: 1>),\n",
       " (<Nucleotide.C: 2>, <Nucleotide.T: 4>, <Nucleotide.C: 2>),\n",
       " (<Nucleotide.C: 2>, <Nucleotide.C: 2>, <Nucleotide.T: 4>),\n",
       " (<Nucleotide.T: 4>, <Nucleotide.T: 4>, <Nucleotide.A: 1>)]"
      ]
     },
     "execution_count": 12,
     "metadata": {},
     "output_type": "execute_result"
    }
   ],
   "source": [
    "str_to_gene(gene_str)"
   ]
  },
  {
   "cell_type": "code",
   "execution_count": 13,
   "id": "87c2daef",
   "metadata": {},
   "outputs": [],
   "source": [
    "acg: Codon = (Nucleotide.A, Nucleotide.C, Nucleotide.G)\n",
    "gat: Codon = (Nucleotide.G, Nucleotide.A, Nucleotide.T)\n",
    "my_gene = str_to_gene(gene_str)"
   ]
  },
  {
   "cell_type": "code",
   "execution_count": 14,
   "id": "70cfe1cf",
   "metadata": {},
   "outputs": [],
   "source": [
    "def linear_contains(key_codon: Codon, gene: Gene)-> bool:\n",
    "    for codon in gene:\n",
    "        if codon == key_codon:\n",
    "            return True\n",
    "    return False\n",
    "    "
   ]
  },
  {
   "cell_type": "code",
   "execution_count": 15,
   "id": "5f0cbd34",
   "metadata": {},
   "outputs": [
    {
     "data": {
      "text/plain": [
       "True"
      ]
     },
     "execution_count": 15,
     "metadata": {},
     "output_type": "execute_result"
    }
   ],
   "source": [
    "linear_contains(acg, my_gene)"
   ]
  },
  {
   "cell_type": "code",
   "execution_count": 16,
   "id": "e7971a63",
   "metadata": {},
   "outputs": [
    {
     "data": {
      "text/plain": [
       "False"
      ]
     },
     "execution_count": 16,
     "metadata": {},
     "output_type": "execute_result"
    }
   ],
   "source": [
    "linear_contains(gat, my_gene)"
   ]
  },
  {
   "cell_type": "code",
   "execution_count": 17,
   "id": "6b0d7ae5",
   "metadata": {},
   "outputs": [
    {
     "data": {
      "text/plain": [
       "True"
      ]
     },
     "execution_count": 17,
     "metadata": {},
     "output_type": "execute_result"
    }
   ],
   "source": [
    "linear_contains(acg, my_gene)"
   ]
  },
  {
   "cell_type": "code",
   "execution_count": 24,
   "id": "7e10a52e",
   "metadata": {},
   "outputs": [],
   "source": [
    "def binary_contains(key_codon: Codon, gene: Gene) -> bool:\n",
    "    low = 0\n",
    "    high = len(gene)\n",
    "    while low <= high:\n",
    "        mid: int = (low + high)//2\n",
    "        if key_codon > gene[mid]:\n",
    "            low = mid+1\n",
    "        elif key_codon < gene[mid]:\n",
    "            high = mid-1\n",
    "        else:\n",
    "            return True\n",
    "    return False\n",
    "        "
   ]
  },
  {
   "cell_type": "code",
   "execution_count": 25,
   "id": "40d74036",
   "metadata": {},
   "outputs": [],
   "source": [
    "my_sorted_gene = sorted(my_gene)"
   ]
  },
  {
   "cell_type": "code",
   "execution_count": 26,
   "id": "cea83dfb",
   "metadata": {},
   "outputs": [
    {
     "data": {
      "text/plain": [
       "False"
      ]
     },
     "execution_count": 26,
     "metadata": {},
     "output_type": "execute_result"
    }
   ],
   "source": [
    "binary_contains(gat, my_sorted_gene)"
   ]
  },
  {
   "cell_type": "code",
   "execution_count": 27,
   "id": "3bca1d72",
   "metadata": {},
   "outputs": [
    {
     "data": {
      "text/plain": [
       "True"
      ]
     },
     "execution_count": 27,
     "metadata": {},
     "output_type": "execute_result"
    }
   ],
   "source": [
    "binary_contains(acg, my_sorted_gene)"
   ]
  },
  {
   "cell_type": "code",
   "execution_count": 54,
   "id": "a7b3f2bb",
   "metadata": {},
   "outputs": [],
   "source": [
    "from __future__ import annotations\n",
    "from typing import Protocol, Iterable, TypeVar, Any, Sequence\n",
    "T = TypeVar('T')"
   ]
  },
  {
   "cell_type": "code",
   "execution_count": 15,
   "id": "504985a0",
   "metadata": {},
   "outputs": [],
   "source": [
    "def linear_contains(iterable: Iterable[T], key: T) -> bool:\n",
    "    for item in iterable:\n",
    "        if key == item:\n",
    "            return True\n",
    "    return False"
   ]
  },
  {
   "cell_type": "code",
   "execution_count": 16,
   "id": "d642c960",
   "metadata": {},
   "outputs": [],
   "source": [
    "C = TypeVar('C', bound='Comparable')"
   ]
  },
  {
   "cell_type": "code",
   "execution_count": 17,
   "id": "0c00c765",
   "metadata": {},
   "outputs": [],
   "source": [
    "class Comparable(Protocol):\n",
    "    def __eq__(self, other: Any) -> bool:\n",
    "        ...\n",
    "        \n",
    "    def __lt__(self: C, other: C) -> bool:\n",
    "        ...\n",
    "    \n",
    "    def __gt__(self: C, other: C) -> bool:\n",
    "        return (not self < other) and self != other\n",
    "    \n",
    "    def __le__(self: C, other: C) -> bool:\n",
    "        return self < other or self==other\n",
    "    \n",
    "    def __ge__(self: C, other: C) -> bool:\n",
    "        return (not self < other)\n",
    "    \n",
    "    "
   ]
  },
  {
   "cell_type": "code",
   "execution_count": 18,
   "id": "6544f78e",
   "metadata": {},
   "outputs": [],
   "source": [
    "def binary_contains(sequence: Sequence, key: C) -> bool:\n",
    "    low: int = 0\n",
    "    high: int = len(sequence) - 1\n",
    "    while low <= high:\n",
    "        mid: int = (low+high)//2\n",
    "        if sequence[mid] < key:\n",
    "            low = mid + 1\n",
    "        elif sequence[mid] > key:\n",
    "            high = mid - 1\n",
    "        else:\n",
    "            return True\n",
    "    return False\n",
    "    "
   ]
  },
  {
   "cell_type": "code",
   "execution_count": 19,
   "id": "9157905d",
   "metadata": {},
   "outputs": [
    {
     "name": "stdout",
     "output_type": "stream",
     "text": [
      "True\n",
      "True\n",
      "False\n"
     ]
    }
   ],
   "source": [
    "print(linear_contains([1, 5, 15, 15, 15, 15, 20], 5)) # True\n",
    "print(binary_contains([\"a\", \"d\", \"e\", \"f\", \"z\"], \"f\")) # True\n",
    "print(binary_contains([\"john\", \"mark\", \"ronald\", \"sarah\"], \"sheila\")) # False"
   ]
  },
  {
   "cell_type": "code",
   "execution_count": null,
   "id": "27f6652c",
   "metadata": {},
   "outputs": [],
   "source": []
  },
  {
   "cell_type": "code",
   "execution_count": null,
   "id": "1b9bd274",
   "metadata": {},
   "outputs": [],
   "source": []
  }
 ],
 "metadata": {
  "kernelspec": {
   "display_name": "Python 3 (ipykernel)",
   "language": "python",
   "name": "python3"
  },
  "language_info": {
   "codemirror_mode": {
    "name": "ipython",
    "version": 3
   },
   "file_extension": ".py",
   "mimetype": "text/x-python",
   "name": "python",
   "nbconvert_exporter": "python",
   "pygments_lexer": "ipython3",
   "version": "3.10.4"
  }
 },
 "nbformat": 4,
 "nbformat_minor": 5
}
